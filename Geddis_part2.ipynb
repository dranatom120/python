{
 "cells": [
  {
   "cell_type": "code",
   "execution_count": 1,
   "metadata": {},
   "outputs": [
    {
     "name": "stdout",
     "output_type": "stream",
     "text": [
      "Type you height180\n",
      "180\n"
     ]
    }
   ],
   "source": [
    "height = input('Type you height')\n",
    "print(height)"
   ]
  },
  {
   "cell_type": "code",
   "execution_count": 2,
   "metadata": {},
   "outputs": [
    {
     "name": "stdout",
     "output_type": "stream",
     "text": [
      "Type you favorite colorred\n",
      "red\n"
     ]
    }
   ],
   "source": [
    "color = input('Type you favorite color')\n",
    "print(color)"
   ]
  },
  {
   "cell_type": "code",
   "execution_count": null,
   "metadata": {},
   "outputs": [],
   "source": [
    "b = a + 2\n",
    "a = b * 4\n",
    "b = a / 3.14\n",
    "a = 8 - b"
   ]
  },
  {
   "cell_type": "code",
   "execution_count": 4,
   "metadata": {},
   "outputs": [
    {
     "name": "stdout",
     "output_type": "stream",
     "text": [
      "1,234,567.5\n"
     ]
    }
   ],
   "source": [
    "number = 1234567.456\n",
    "print(format(number, ',.1f'))"
   ]
  },
  {
   "cell_type": "code",
   "execution_count": 1,
   "metadata": {},
   "outputs": [],
   "source": [
    "import turtle\n",
    "turtle.circle(75)"
   ]
  },
  {
   "cell_type": "code",
   "execution_count": 4,
   "metadata": {},
   "outputs": [],
   "source": [
    "import turtle\n",
    "turtle.fillcolor('blue')\n",
    "turtle.begin_fill()\n",
    "turtle.forward(100)\n",
    "turtle.setheading(90)\n",
    "turtle.forward(100)\n",
    "turtle.setheading(180)\n",
    "turtle.forward(100)\n",
    "turtle.setheading(270)\n",
    "turtle.end_fill()\n",
    "turtle.goto(0, 50)\n",
    "turtle.circle(50)"
   ]
  },
  {
   "cell_type": "code",
   "execution_count": 1,
   "metadata": {},
   "outputs": [
    {
     "name": "stdout",
     "output_type": "stream",
     "text": [
      "Type you namesem\n",
      "Type you adressnov 23\n",
      "type phone number9043\n",
      "type you specialisationvrch\n",
      "You name is sem you live in nov 23 you specialisation vrch and you phone number is 9043\n"
     ]
    }
   ],
   "source": [
    "name = input('Type you name')\n",
    "adress = input('Type you adress')\n",
    "phone = input('type phone number')\n",
    "special = input('type you specialisation')\n",
    "print('You name is', name, 'you live in', adress, 'you specialisation', special, 'and you phone number is', phone)"
   ]
  },
  {
   "cell_type": "code",
   "execution_count": 1,
   "metadata": {},
   "outputs": [
    {
     "name": "stdout",
     "output_type": "stream",
     "text": [
      "Введите обьем продаж в рублях 100000\n",
      "Ваша прибыль составит 23000.0 руб.\n"
     ]
    }
   ],
   "source": [
    "# Прогноз прибыли\n",
    "sales = int(input('Введите обьем продаж в рублях '))\n",
    "revenue = sales * 0.23\n",
    "print(\"Ваша прибыль составит\", revenue, \"руб.\")"
   ]
  },
  {
   "cell_type": "code",
   "execution_count": 2,
   "metadata": {
    "scrolled": true
   },
   "outputs": [
    {
     "name": "stdout",
     "output_type": "stream",
     "text": [
      "Введите количество квадратных метров 40000\n",
      "Количество акров в участке  9.883864591055103\n"
     ]
    }
   ],
   "source": [
    "# Расчет площади земельного участка в акрах\n",
    "metr = int(input(\"Введите количество квадратных метров \"))\n",
    "akr = metr / 4047\n",
    "print(\"Количество акров в участке \", akr)"
   ]
  },
  {
   "cell_type": "code",
   "execution_count": 4,
   "metadata": {},
   "outputs": [
    {
     "name": "stdout",
     "output_type": "stream",
     "text": [
      "Введите стоимость первого товара 1\n",
      "Введите стоимость второго товара 3\n",
      "Введите стоимость третьего товара 4\n",
      "Введите стоимость четвертого товара 5\n",
      "Введите стоимость пятого товара 3\n",
      "Стоимость товаров составит  16 Заплатите налога  1.12 Итого будет  17.12\n"
     ]
    }
   ],
   "source": [
    "# Расчет стоимости товаров и налога с продаж\n",
    "one = int(input(\"Введите стоимость первого товара \"))\n",
    "two = int(input(\"Введите стоимость второго товара \"))\n",
    "thre = int(input(\"Введите стоимость третьего товара \"))\n",
    "four = int(input(\"Введите стоимость четвертого товара \"))\n",
    "five = int(input(\"Введите стоимость пятого товара \"))\n",
    "nak_stoim = one + two + thre + four + five\n",
    "nalog = nak_stoim * 0.07\n",
    "itog = nak_stoim + nalog\n",
    "print(\"Стоимость товаров составит \", nak_stoim, \"Заплатите налога \", nalog, \"Итого будет \", itog)"
   ]
  },
  {
   "cell_type": "code",
   "execution_count": 8,
   "metadata": {},
   "outputs": [
    {
     "name": "stdout",
     "output_type": "stream",
     "text": [
      "Введите скорость в км.час 60\n",
      "Введите время в часах 1.5\n",
      "Расстояние равно 90.0 километров\n"
     ]
    }
   ],
   "source": [
    "# Расстояние пройденное\n",
    "s = float(input(\"Введите скорость в км.час \"))\n",
    "t = float(input(\"Введите время в часах \"))\n",
    "print(\"Расстояние равно\", s * t, \"километров\")\n"
   ]
  },
  {
   "cell_type": "code",
   "execution_count": 10,
   "metadata": {},
   "outputs": [
    {
     "name": "stdout",
     "output_type": "stream",
     "text": [
      "Введите стоимость покупки 1000\n",
      "Ваша покупка была стоимостью  1000 Федеральный налог составил  50.0 Региональный налог составил 25.0 Общий налог составил  75.0 Общая сумма покупки  1075.0\n"
     ]
    }
   ],
   "source": [
    "# Налог с продаж\n",
    "price = int(input(\"Введите стоимость покупки \"))\n",
    "fed_nal = price * 0.05\n",
    "reg_nal = price * 0.025\n",
    "print(\"Ваша покупка была стоимостью \", price, \"Федеральный налог составил \", fed_nal, \"Региональный налог составил\", reg_nal,\n",
    "     \"Общий налог составил \", fed_nal + reg_nal, \"Общая сумма покупки \", price + fed_nal + reg_nal)"
   ]
  },
  {
   "cell_type": "code",
   "execution_count": 12,
   "metadata": {},
   "outputs": [
    {
     "name": "stdout",
     "output_type": "stream",
     "text": [
      "Введите расстояние 120\n",
      "Введите общий расход бензина11\n",
      "Расход на километр составит  0.09166666666666666\n"
     ]
    }
   ],
   "source": [
    "# Расход бензина автомобилем\n",
    "r = int(input(\"Введите расстояние \"))\n",
    "v = int(input(\"Введите общий расход бензина\"))\n",
    "print(\"Расход на километр составит \", v / r)"
   ]
  },
  {
   "cell_type": "code",
   "execution_count": 13,
   "metadata": {},
   "outputs": [
    {
     "name": "stdout",
     "output_type": "stream",
     "text": [
      "Введите стоимость обеда50\n",
      "Размер чаевых составит  9.0 Налог составит  3.5000000000000004 Общая стоимость составит  62.5\n"
     ]
    }
   ],
   "source": [
    "# Расчет чаевых\n",
    "s = int(input(\"Введите стоимость обеда \"))\n",
    "print(\"Размер чаевых составит \", s * 0.18, \"Налог составит \", s * 0.07, \"Общая стоимость составит \", s + (s * 0.18) + (s * 0.07))"
   ]
  },
  {
   "cell_type": "code",
   "execution_count": 14,
   "metadata": {},
   "outputs": [
    {
     "name": "stdout",
     "output_type": "stream",
     "text": [
      "Введите температуру по цельсию23\n",
      "Температура по фарингейту составит  73.4\n"
     ]
    }
   ],
   "source": [
    "# Преобразователь температуры -  цельсий - фарингейт\n",
    "c = float(input(\"Введите температуру по цельсию\"))\n",
    "print(\"Температура по фарингейту составит \", 9/5 * c + 32)"
   ]
  },
  {
   "cell_type": "code",
   "execution_count": 19,
   "metadata": {},
   "outputs": [
    {
     "name": "stdout",
     "output_type": "stream",
     "text": [
      "Введите количество булочек для готовки66\n",
      "Вам потребуется  2.0625  стаканов сахара 1.375  стаканов масла  3.78125 стаканов муки\n"
     ]
    }
   ],
   "source": [
    "# Расчет ингридиентов\n",
    "k = int(input(\"Введите количество булочек для готовки \"))\n",
    "print(\"Вам потребуется \", 1.5 / 48 * k, \" стаканов сахара\", 1/48 * k, \" стаканов масла \", 2.75 / 48 * k, \"стаканов муки\")"
   ]
  }
 ],
 "metadata": {
  "kernelspec": {
   "display_name": "Python 3",
   "language": "python",
   "name": "python3"
  },
  "language_info": {
   "codemirror_mode": {
    "name": "ipython",
    "version": 3
   },
   "file_extension": ".py",
   "mimetype": "text/x-python",
   "name": "python",
   "nbconvert_exporter": "python",
   "pygments_lexer": "ipython3",
   "version": "3.7.0"
  }
 },
 "nbformat": 4,
 "nbformat_minor": 2
}
